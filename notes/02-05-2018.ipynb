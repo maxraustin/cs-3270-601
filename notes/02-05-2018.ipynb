{
 "cells": [
  {
   "cell_type": "markdown",
   "metadata": {},
   "source": [
    "## Functional Exercises\n",
    "\n",
    "Today's discussion is going to revolve around generators, decorators and general functional programming practices and\n",
    "how those practices can apply to python."
   ]
  },
  {
   "cell_type": "code",
   "execution_count": null,
   "metadata": {
    "collapsed": true
   },
   "outputs": [],
   "source": [
    "from pprint import pprint\n",
    "import random\n",
    "import sys\n",
    "sys.path.insert(0, './series')"
   ]
  },
  {
   "cell_type": "markdown",
   "metadata": {},
   "source": [
    "## Exercise\n",
    "\n",
    "_Function Examples_  \n",
    "\n",
    "* Create a function that returns the sum of 2 squared numbers\n",
    " * Call the function with positional params\n",
    " * Call the function with named params\n",
    "   \n",
    "<Answer\n",
    "def squared(a, b):\n",
    "    return a**2 + b**2\n",
    "\n",
    "print(squared(2, 3))\n",
    "print(squared(a=2, b=3))\n",
    ">"
   ]
  },
  {
   "cell_type": "code",
   "execution_count": 1,
   "metadata": {
    "collapsed": false
   },
   "outputs": [],
   "source": [
    "def square_sum(first_value, second_value):\n",
    "    \"\"\"\n",
    "    square_sum will return the sum of 2 numbers squared\n",
    "    \"\"\"\n",
    "    return first_value ** 2 + second_value ** 2"
   ]
  },
  {
   "cell_type": "code",
   "execution_count": 2,
   "metadata": {
    "collapsed": false
   },
   "outputs": [
    {
     "data": {
      "text/plain": [
       "20"
      ]
     },
     "execution_count": 2,
     "metadata": {},
     "output_type": "execute_result"
    }
   ],
   "source": [
    "square_sum(2, 4)"
   ]
  },
  {
   "cell_type": "code",
   "execution_count": 3,
   "metadata": {
    "collapsed": false
   },
   "outputs": [
    {
     "data": {
      "text/plain": [
       "52"
      ]
     },
     "execution_count": 3,
     "metadata": {},
     "output_type": "execute_result"
    }
   ],
   "source": [
    "square_sum(first_value=4, second_value=6)"
   ]
  },
  {
   "cell_type": "markdown",
   "metadata": {},
   "source": [
    "## Exercise\n",
    "\n",
    "_Generators_\n",
    "\n",
    "For this exercise we are going to be working some of the more advanced\n",
    "aspects of functions and get into (briefly) functional programming.   \n",
    "\n",
    "* Create a function that acts as a generator for fibonacci sequence\n",
    "  * 0, 1, 1, 2, 3, 5, 8, 13, 21...\n",
    " \n",
    "<Answer\n",
    "def fib_generator():\n",
    "    p = 0\n",
    "    l = 1\n",
    "    yield p\n",
    "    yield l\n",
    "    while True:\n",
    "        p, l = l, p + l\n",
    "        yield l      \n",
    ">"
   ]
  },
  {
   "cell_type": "code",
   "execution_count": 4,
   "metadata": {
    "collapsed": false
   },
   "outputs": [],
   "source": [
    "def fibonnaci():\n",
    "    prev = 0\n",
    "    current = 1\n",
    "    yield prev\n",
    "    yield current\n",
    "    while True:\n",
    "        prev, current = current, prev + current\n",
    "        #next_value = prev + current\n",
    "        #prev = current\n",
    "        #current = next_value\n",
    "        yield current"
   ]
  },
  {
   "cell_type": "code",
   "execution_count": 5,
   "metadata": {
    "collapsed": false
   },
   "outputs": [
    {
     "name": "stdout",
     "output_type": "stream",
     "text": [
      "0 1 1 2 3 5 8 13 21 34 "
     ]
    }
   ],
   "source": [
    "for i, f in enumerate(fibonnaci()):\n",
    "    if i >= 10:\n",
    "        break\n",
    "    print(f, end=' ')"
   ]
  },
  {
   "cell_type": "markdown",
   "metadata": {},
   "source": [
    "## Exercise\n",
    "\n",
    "_Decorators and Functional Programming_   \n",
    "\n",
    "* Create a decorator named (logit) that will log when a method is\n",
    "  called and when it is complete (with the result)\n",
    "  * Test it on a function that returns the sum of two numbers\n",
    "  \n",
    "<Answer\n",
    "def logit(func):\n",
    "    def func_wrapper(*args, **kargs):\n",
    "        print('Function called')\n",
    "        result = func(*args, **kargs)\n",
    "        print('Complete, result: {}'.format(result))\n",
    "        return result\n",
    "    return func_wrapper\n",
    "\n",
    "@logit\n",
    "def add(a, b):\n",
    "    return a + b\n",
    "\n",
    "print(add(1, 2))\n",
    ">"
   ]
  },
  {
   "cell_type": "code",
   "execution_count": 33,
   "metadata": {
    "collapsed": false
   },
   "outputs": [
    {
     "name": "stdout",
     "output_type": "stream",
     "text": [
      "hi\n",
      "Me Mike\n",
      "10\n"
     ]
    }
   ],
   "source": [
    "def simple_decorator(func):\n",
    "    def wrapper(*args, **kwargs):\n",
    "        print('hi')\n",
    "        return func(*args, **kwargs)\n",
    "    return wrapper\n",
    "\n",
    "#test = simple_decorator(test)\n",
    "@simple_decorator\n",
    "def test(a):\n",
    "    print('Me', a)\n",
    "    return 10\n",
    "     \n",
    "print(test('Mike'))"
   ]
  },
  {
   "cell_type": "code",
   "execution_count": 27,
   "metadata": {
    "collapsed": true
   },
   "outputs": [],
   "source": [
    "def retry(max_count=None, fail_message='Failed function, try again'):\n",
    "    def decorator(func):\n",
    "        def wrapper(*args, **kwargs):\n",
    "            run_count = 1\n",
    "            while True:\n",
    "                try:\n",
    "                    return func(*args, **kwargs)\n",
    "                except Exception as e:\n",
    "                    if type(fail_message) == str:\n",
    "                        print(fail_message)\n",
    "                    elif fail_message:\n",
    "                        fail_message(run_count)\n",
    "                    if max_count and run_count >= max_count:\n",
    "                        raise e\n",
    "                    run_count += 1\n",
    "        return wrapper\n",
    "    return decorator"
   ]
  },
  {
   "cell_type": "code",
   "execution_count": 34,
   "metadata": {
    "collapsed": false
   },
   "outputs": [
    {
     "name": "stdout",
     "output_type": "stream",
     "text": [
      "Failed function, try again\n",
      "Failed function, try again\n",
      "All good\n"
     ]
    }
   ],
   "source": [
    "current_count = 0\n",
    "\n",
    "@retry(max_count=3)\n",
    "def test_fail():\n",
    "    global current_count\n",
    "    if current_count < 2:\n",
    "        current_count += 1\n",
    "        raise Exception('Oops I broke')\n",
    "      \n",
    "#max_count_retry = retry(max_count=3)\n",
    "#test_fail = max_count_retry(test_fail)\n",
    "    \n",
    "test_fail()\n",
    "print('All good')"
   ]
  },
  {
   "cell_type": "code",
   "execution_count": 18,
   "metadata": {
    "collapsed": false
   },
   "outputs": [
    {
     "name": "stdout",
     "output_type": "stream",
     "text": [
      "Give me a number: fsd\n",
      "You did not give me a real number, shame...\n",
      "Give me a number: sfd\n",
      "You did not give me a real number, shame...\n",
      "Give me a number: 10\n"
     ]
    },
    {
     "data": {
      "text/plain": [
       "10"
      ]
     },
     "execution_count": 18,
     "metadata": {},
     "output_type": "execute_result"
    }
   ],
   "source": [
    "@retry(fail_message='You did not give me a real number, shame...')\n",
    "def give_me_a_number():\n",
    "    return int(input('Give me a number: '))\n",
    "\n",
    "give_me_a_number()"
   ]
  },
  {
   "cell_type": "code",
   "execution_count": 21,
   "metadata": {
    "collapsed": false
   },
   "outputs": [
    {
     "name": "stdout",
     "output_type": "stream",
     "text": [
      "Give me mike: fsd\n",
      "Ok, just try again\n",
      "Give me mike: dsf\n",
      "Ok, just try again\n",
      "Give me mike: sdf\n",
      "Ok, just try again\n",
      "Give me mike: dfs\n",
      "Seriously!  You are soooooo dumbbb!!!!\n",
      "Give me mike: mike\n"
     ]
    }
   ],
   "source": [
    "def shame_function(c):\n",
    "    if c > 3:\n",
    "        print('Seriously!  You are soooooo dumbbb!!!!')\n",
    "    else:\n",
    "        print('Ok, just try again')\n",
    "        \n",
    "@retry(fail_message=shame_function)\n",
    "def give_me_a_mike():\n",
    "    result = input('Give me mike: ')\n",
    "    if result != \"mike\":\n",
    "        raise Exception('Its a simple task')\n",
    "\n",
    "give_me_a_mike()"
   ]
  },
  {
   "cell_type": "markdown",
   "metadata": {},
   "source": [
    "## Exercise\n",
    "\n",
    "_Callbacks_\n",
    "\n",
    "In this next exercise we are going to demonstrate a callback in two examples. \n",
    "1. A lifecycle event callback\n",
    "2. An algorithm replacement callback\n"
   ]
  },
  {
   "cell_type": "code",
   "execution_count": 35,
   "metadata": {
    "collapsed": false
   },
   "outputs": [
    {
     "name": "stdout",
     "output_type": "stream",
     "text": [
      "Iteration 0 - total: 3\n",
      "Iteration 2 - total: 12\n"
     ]
    }
   ],
   "source": [
    "import time\n",
    "\n",
    "def delay_sum(*args, lifecycle_callback=None):\n",
    "    total = 0\n",
    "    for i, num in enumerate(args):\n",
    "        total += num\n",
    "        if lifecycle_callback:\n",
    "            lifecycle_callback(i, total)\n",
    "        time.sleep(1)\n",
    "        \n",
    "def log_on_2s(i, total):\n",
    "    if i % 2 == 0:\n",
    "        print(f'Iteration {i} - total: {total}')\n",
    "        \n",
    "delay_sum(3, 4, 5, lifecycle_callback=log_on_2s)"
   ]
  },
  {
   "cell_type": "code",
   "execution_count": 41,
   "metadata": {
    "collapsed": false
   },
   "outputs": [
    {
     "name": "stdout",
     "output_type": "stream",
     "text": [
      "55\n",
      "55\n",
      "3628800\n",
      "3628800\n"
     ]
    }
   ],
   "source": [
    "def result_combiner(*args, start_total=0, combine_function=lambda t, n: t + n):\n",
    "    \"\"\"\n",
    "    This function is basically a sum over the results of the supplied combine_function,\n",
    "    by default the combine function takes in the total and the next value and updates\n",
    "    the total with the result of the combine_function call.  \n",
    "    \"\"\"\n",
    "    total = start_total\n",
    "    for n in args:\n",
    "        total = combine_function(total, n)\n",
    "    return total\n",
    "\n",
    "sum_of_all_numbers_from_1_to_10 = result_combiner(*list(range(1, 11)))\n",
    "print(sum_of_all_numbers_from_1_to_10)\n",
    "print(1 + 2 + 3 + 4 + 5 + 6 + 7 + 8 + 9 + 10)\n",
    "    \n",
    "result_of_all_numbers_multiplied = result_combiner(*list(range(1, 11)), start_total=1, combine_function=lambda t, n: t * n)\n",
    "print(result_of_all_numbers_multiplied)\n",
    "print(1 * 2 * 3 * 4 * 5 * 6 * 7 * 8 * 9 * 10)"
   ]
  },
  {
   "cell_type": "markdown",
   "metadata": {},
   "source": [
    "## Exercise\n",
    "\n",
    "_Scopes and Exceptions_   \n",
    "\n",
    "For this exercise section we are going to get more familiar with both\n",
    "scopes and exceptions.  \n",
    "\n",
    "* Get familiar with scope\n",
    "  * Create a variable `x = 1` and print out the globals() entry for `x`\n",
    "  * Create a function that prints out the value of the global variable `x`  \n",
    "  * In the same function, after printing, set `x` to 1\n",
    "  * Add the statement `global x` as the first line in the function\n",
    "   \n",
    "<Answer\n",
    "x = 1\n",
    "#globals()\n",
    "\n",
    "def test():\n",
    "    global x\n",
    "    print(x)\n",
    "    x = 2\n",
    "\n",
    "test()\n",
    "print(x)\n",
    ">"
   ]
  },
  {
   "cell_type": "code",
   "execution_count": null,
   "metadata": {
    "collapsed": false
   },
   "outputs": [],
   "source": []
  },
  {
   "cell_type": "markdown",
   "metadata": {},
   "source": [
    "## In Depth\n",
    "\n",
    "We will start by taking a \"database\", players, that is defined below and running operations against the database.  Lets view\n",
    "the data we are going to load. "
   ]
  },
  {
   "cell_type": "code",
   "execution_count": null,
   "metadata": {
    "collapsed": false
   },
   "outputs": [],
   "source": [
    "from series import season_series\n",
    "\n",
    "# season_stats format\n",
    "# year,round,winner,win_name,loser,loser_name,wins,losses,ties\n",
    "print(random.sample(season_series, 1))"
   ]
  },
  {
   "cell_type": "markdown",
   "metadata": {},
   "source": [
    "1. Create a dict of all series games keyed by series type\n",
    "  * each of the entries should be a dict with year, winners (tuple), losers (tuple) and games played (tuple)\n",
    "2. Capture all world_series in a variable `world_series` and print results (maximum of 5)\n",
    "3. Print the years the world series went all 7 games (sorted)\n",
    "4. Print the winners of world series, with how many world series that they have won\n",
    "\n",
    "<Answer: \n",
    "part 1\n",
    "series_dict = {}\n",
    "for series in season_series:\n",
    "    if series[1] not in series_dict:\n",
    "        series_dict[series[1]] = list()\n",
    "    series_dict[series[1]].append(\n",
    "        {'year': series[0], \n",
    "         'winners': (series[2:4]), \n",
    "         'losers': (series[4:6]), \n",
    "         'games': {series[6:]}})\n",
    "         \n",
    "all_series = {\n",
    "    s[1]: [{\n",
    "        'year': g[0],\n",
    "        'winners': g[2:4],\n",
    "        'losers': g[4:6],\n",
    "        'games': g[6:]\n",
    "    } for g in season_series if g[1] == s[1]]\n",
    "    for s in season_series\n",
    "}\n",
    "         \n",
    "part 2\n",
    "world_series = series_dict['WS']\n",
    "pprint(all_series['WS'][:10])\n",
    "\n",
    "part 3\n",
    "seven_games = []\n",
    "for year in world_series:\n",
    "    if {(4, 3, 0)} & year['games']:\n",
    "        seven_games.append(year['year'])\n",
    "seven_games.sort()\n",
    "pprint(seven_games) \n",
    "\n",
    "part 4\n",
    "winners = {}\n",
    "for year in world_series:\n",
    "    winner = year['winners']\n",
    "    if winner[1] in winners:\n",
    "        winners[winner[0]] += 1\n",
    "    else:\n",
    "        winners[winner[0]] = 1\n",
    "pprint(winners)\n",
    "\n",
    "\n",
    "from collections import Counter\n",
    "\n",
    "Counter([x['winners'][0] for x in world_series])\n",
    ">"
   ]
  },
  {
   "cell_type": "code",
   "execution_count": null,
   "metadata": {
    "collapsed": false
   },
   "outputs": [],
   "source": [
    "# Part 1\n",
    "\n",
    "\n",
    "pprint(all_series.keys())"
   ]
  },
  {
   "cell_type": "code",
   "execution_count": null,
   "metadata": {
    "collapsed": false
   },
   "outputs": [],
   "source": [
    "# Part 2\n"
   ]
  },
  {
   "cell_type": "code",
   "execution_count": null,
   "metadata": {
    "collapsed": false
   },
   "outputs": [],
   "source": [
    "# Part 3\n"
   ]
  },
  {
   "cell_type": "code",
   "execution_count": null,
   "metadata": {
    "collapsed": false
   },
   "outputs": [],
   "source": [
    "# Part 4\n"
   ]
  }
 ],
 "metadata": {
  "kernelspec": {
   "display_name": "Python 3",
   "language": "python",
   "name": "python3"
  },
  "language_info": {
   "codemirror_mode": {
    "name": "ipython",
    "version": 3
   },
   "file_extension": ".py",
   "mimetype": "text/x-python",
   "name": "python",
   "nbconvert_exporter": "python",
   "pygments_lexer": "ipython3",
   "version": "3.6.2"
  }
 },
 "nbformat": 4,
 "nbformat_minor": 2
}
