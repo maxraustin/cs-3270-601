{
 "cells": [
  {
   "cell_type": "markdown",
   "metadata": {},
   "source": [
    "## Quiz 2\n",
    "\n",
    "For this quiz there are going to be 5 questions, each has its points value next to its name (totalling 7)  \n",
    "\n",
    "Don't fret though, remember that in this class all quizzes are extra credit, so getting a 0 is not going to have a negative impact on your grade. "
   ]
  },
  {
   "cell_type": "markdown",
   "metadata": {},
   "source": [
    "### Question 1\n",
    "\n",
    "**1 point**\n",
    "\n",
    "What operator (replacing the ?) in python completes the below expression"
   ]
  },
  {
   "cell_type": "code",
   "execution_count": 1,
   "metadata": {
    "collapsed": false
   },
   "outputs": [
    {
     "data": {
      "text/plain": [
       "True"
      ]
     },
     "execution_count": 1,
     "metadata": {},
     "output_type": "execute_result"
    }
   ],
   "source": [
    "# Solution\n",
    "29 // 8 == 3 "
   ]
  },
  {
   "cell_type": "markdown",
   "metadata": {},
   "source": [
    "### Question 2\n",
    "\n",
    "**1 point**\n",
    "\n",
    "Create a unique set without using the `set()` function.  The set should contain all numbers from 1 to 5."
   ]
  },
  {
   "cell_type": "code",
   "execution_count": 9,
   "metadata": {
    "collapsed": false
   },
   "outputs": [
    {
     "data": {
      "text/plain": [
       "{1, 2, 3, 4, 5}"
      ]
     },
     "execution_count": 9,
     "metadata": {},
     "output_type": "execute_result"
    }
   ],
   "source": [
    "# Solution\n",
    "{1, 2, 3, 4, 5}"
   ]
  },
  {
   "cell_type": "markdown",
   "metadata": {},
   "source": [
    "### Question 3\n",
    "\n",
    "**1 points**\n",
    "\n",
    "Given the list `x` containing `[3, 4, 5, 2, 3, 7, 7, 2, 3, 9, 8]` return a slice containing all `3`'s "
   ]
  },
  {
   "cell_type": "code",
   "execution_count": 23,
   "metadata": {
    "collapsed": false
   },
   "outputs": [
    {
     "data": {
      "text/plain": [
       "[3, 3, 3]"
      ]
     },
     "execution_count": 23,
     "metadata": {},
     "output_type": "execute_result"
    }
   ],
   "source": [
    "x = [3, 4, 5, 2, 3, 7, 7, 2, 3, 9, 8]\n",
    "\n",
    "# Solution\n",
    "x[::4]"
   ]
  },
  {
   "cell_type": "markdown",
   "metadata": {},
   "source": [
    "### Question 4\n",
    "\n",
    "**2 points**\n",
    "\n",
    "Write a loop that iterates over all the entries in a dictionary named `nums` and prints the value if the key is divisible by 2"
   ]
  },
  {
   "cell_type": "code",
   "execution_count": 31,
   "metadata": {
    "collapsed": false
   },
   "outputs": [
    {
     "name": "stdout",
     "output_type": "stream",
     "text": [
      "a\n",
      "c\n",
      "d\n",
      "q\n"
     ]
    },
    {
     "data": {
      "text/plain": [
       "['a', 'c', 'd', 'q']"
      ]
     },
     "execution_count": 31,
     "metadata": {},
     "output_type": "execute_result"
    }
   ],
   "source": [
    "nums = {2: 'a', 3: 'b', 4: 'c', 6: 'd', 8: 'q', 9: 'z'}\n",
    "\n",
    "# Solution\n",
    "for k, v in nums.items():\n",
    "    if k % 2 == 0:\n",
    "        print(v)\n",
    "        \n",
    "## This answer is worth 1 point\n",
    "for k in nums:\n",
    "    if k % 2 == 0:\n",
    "        print(nums[k])\n",
    "\n",
    "## This answer is worth full points\n",
    "[v for k, v in nums.items() if k % 2 == 0]"
   ]
  },
  {
   "cell_type": "markdown",
   "metadata": {},
   "source": [
    "### Question 5\n",
    "\n",
    "**2 points**\n",
    "\n",
    "Given a list `names` and a tuple `ages` create a list containing the pairs of each entry in the idiomatic pythonic style. "
   ]
  },
  {
   "cell_type": "code",
   "execution_count": 35,
   "metadata": {
    "collapsed": false
   },
   "outputs": [
    {
     "name": "stdout",
     "output_type": "stream",
     "text": [
      "[('Me', 10), ('Theirs', 20), ('Yours', 30)]\n"
     ]
    },
    {
     "data": {
      "text/plain": [
       "[('Me', 10),\n",
       " ('Me', 20),\n",
       " ('Me', 30),\n",
       " ('Theirs', 10),\n",
       " ('Theirs', 20),\n",
       " ('Theirs', 30),\n",
       " ('Yours', 10),\n",
       " ('Yours', 20),\n",
       " ('Yours', 30)]"
      ]
     },
     "execution_count": 35,
     "metadata": {},
     "output_type": "execute_result"
    }
   ],
   "source": [
    "names = ['Me', 'Theirs', 'Yours']\n",
    "ages = (10, 20, 30)\n",
    "\n",
    "# Solution\n",
    "print(list(zip(names, ages)))\n",
    "\n",
    "## This is worth one\n",
    "[(n, a) for n in names for a in ages]"
   ]
  },
  {
   "cell_type": "code",
   "execution_count": null,
   "metadata": {
    "collapsed": true
   },
   "outputs": [],
   "source": []
  }
 ],
 "metadata": {
  "kernelspec": {
   "display_name": "Python 3",
   "language": "python",
   "name": "python3"
  },
  "language_info": {
   "codemirror_mode": {
    "name": "ipython",
    "version": 3
   },
   "file_extension": ".py",
   "mimetype": "text/x-python",
   "name": "python",
   "nbconvert_exporter": "python",
   "pygments_lexer": "ipython3",
   "version": "3.6.2"
  }
 },
 "nbformat": 4,
 "nbformat_minor": 2
}
