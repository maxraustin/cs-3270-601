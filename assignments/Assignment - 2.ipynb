{
 "cells": [
  {
   "cell_type": "markdown",
   "metadata": {
    "collapsed": true
   },
   "source": [
    "Assignment 2\n",
    "======================\n",
    "\n",
    "There are 2 small scripts to write for this assignment.  This assignment can either be completed\n",
    "in jupyter or as smaller scripts written and placed in the hw2 folder.  Each of these two scripts\n",
    "must be named `hw2-1.py` and `hw2-2.py`.   \n",
    "\n",
    "To make things easier we are also going to add the path for the hw2 folder into the python system\n",
    "to have it automatically load the `paths.py` file discussed for part 1.   "
   ]
  },
  {
   "cell_type": "code",
   "execution_count": null,
   "metadata": {
    "collapsed": true
   },
   "outputs": [],
   "source": [
    "import sys\n",
    "sys.path.insert(0, './hw2')"
   ]
  },
  {
   "cell_type": "markdown",
   "metadata": {},
   "source": [
    "## Part 1\n",
    "\n",
    "For this first part of assignment 2 you are going to be taking the 4 database tables defined below (sets of tuples) and working with them. The 4 database tables have the following name and structure:   \n",
    "\n",
    "    suppliers(sno,sname,status,city)\n",
    "    parts(pno,pname,color,weight,city)\n",
    "    projects(jno,jname,city)\n",
    "    spj(sno,pno,jno,qty)"
   ]
  },
  {
   "cell_type": "code",
   "execution_count": null,
   "metadata": {
    "collapsed": true
   },
   "outputs": [],
   "source": [
    "# Load the databases into your system, note that all values in parts requires access using parts.\n",
    "import parts"
   ]
  },
  {
   "cell_type": "markdown",
   "metadata": {},
   "source": [
    "The first slot in each tuple (sno, pno, and jno) in the first 3 tables is the unique record id (a string).\n",
    "Import parts.py and use set comprehensions to process the queries below. For example, to find which \n",
    "suppliers supply projects in London, you can write:   "
   ]
  },
  {
   "cell_type": "code",
   "execution_count": null,
   "metadata": {
    "collapsed": false
   },
   "outputs": [],
   "source": [
    "{supp[1] for supp in parts.suppliers for r in parts.spj for proj in parts.projects\n",
    "if r[0]==supp[0] if proj[0]==r[2] if proj[2]=='London'}"
   ]
  },
  {
   "cell_type": "markdown",
   "metadata": {},
   "source": [
    "We use set comprehensions so that any duplicate tuples are removed, as is typical in database queries, and so it can be saved and processed later if needed. Note that all pertinent tables in the query need to be in a for clause, if you want to do the query in a single statement. You can instead separate queries into multiple steps if you like. For example, the query above can also be written as follows:"
   ]
  },
  {
   "cell_type": "code",
   "execution_count": null,
   "metadata": {
    "collapsed": false
   },
   "outputs": [],
   "source": [
    "londonprojs = {j[0] for j in parts.projects if j[2]=='London'}\n",
    "londonsuppids = {r[0] for r in parts.spj if r[2] in londonprojs}\n",
    "londonsupps = {s[1] for s in parts.suppliers if s[0] in londonsuppids}\n",
    "print(londonsupps)"
   ]
  },
  {
   "cell_type": "markdown",
   "metadata": {},
   "source": [
    "Below is where you will need to put in your code to solve the request queries that are\n",
    "commented in the line above.  \n",
    "\n",
    "**Note: Do not use any literal key values (i.e., record ids, such as “p1”) in your code. Print no \n",
    "duplicates. You should have no top-level loops in this script (they are inside the comprehensions).**    "
   ]
  },
  {
   "cell_type": "code",
   "execution_count": null,
   "metadata": {
    "collapsed": false
   },
   "outputs": [],
   "source": [
    "# Get names of suppliers that supply bolts.\n",
    "bolt_suppliers = None\n",
    "\n",
    "# Get names of suppliers that supply red parts.\n",
    "red_part_suppliers = None\n",
    "\n",
    "# Get pairs of names of suppliers that are located in the same city.\n",
    "same_city_suppliers = None\n",
    "\n",
    "# Print the suppliers out by city\n",
    "   "
   ]
  },
  {
   "cell_type": "code",
   "execution_count": null,
   "metadata": {
    "collapsed": false
   },
   "outputs": [],
   "source": [
    "assert(bolt_suppliers == {'Adams'})\n",
    "assert(red_part_suppliers == {'Blake', 'Smith', 'Adams', 'Clark'})\n",
    "assert(same_city_suppliers == {('Smith', 'Clark'), ('Jones', 'Blake')})\n",
    "\n",
    "# Printed output\n",
    "# {'Paris': {'Jones', 'Blake'}, 'London': {'Smith', 'Clark'}, 'Athens': {'Adams'}}"
   ]
  },
  {
   "cell_type": "markdown",
   "metadata": {},
   "source": [
    "## Part 2\n",
    "\n",
    "In the hw2 folder there is a file named `strings.txt`. For this second part you will need to write code\n",
    "that will read all the words (consisting only of letters and apostrophes) in the file and prints out each\n",
    "word and the number of times it occurs in the file, disregarding case.  The output should look something\n",
    "like:   \n",
    "\n",
    "              the:   189\n",
    "                a:    68\n",
    "               is:    41\n",
    "     stringbuffer:    33\n",
    "             java:    25\n",
    "             time:    18\n",
    "             with:     3\n",
    "             ...\n",
    "             \n",
    "Note the right-aligned formatting and that the output is sorted in descending order by frequency. The order\n",
    "of the words within each frequency is not important. The width of the first column is based on the length\n",
    "of the longest word found in the file.   "
   ]
  },
  {
   "cell_type": "code",
   "execution_count": null,
   "metadata": {
    "collapsed": false
   },
   "outputs": [],
   "source": [
    "# Answer\n",
    "\n",
    "# File is hw2/strings.txt\n",
    "\n",
    "words = None"
   ]
  },
  {
   "cell_type": "code",
   "execution_count": null,
   "metadata": {
    "collapsed": false
   },
   "outputs": [],
   "source": [
    "# Sample assertions for list of tuples (word, count) called words\n",
    "assert(('the', 101) in words)\n",
    "assert(('and', 38) in words)\n",
    "assert(('you', 19) in words)\n",
    "assert(('with', 11) in words)\n",
    "assert(('indexof', 9) in words)\n",
    "assert(('this', 7) in words)\n",
    "assert(('next', 4) in words)\n",
    "assert(('basic', 4) in words)\n",
    "assert(('many', 3) in words)\n",
    "assert(('runtime', 3) in words)\n",
    "assert(('deck', 2) in words)\n",
    "assert((\"didn't\", 2) in words)\n",
    "assert(('even', 2) in words)\n",
    "assert(('circle', 1) in words)\n",
    "assert(('realloc', 1) in words)\n",
    "assert(('summary', 1) in words)"
   ]
  },
  {
   "cell_type": "code",
   "execution_count": null,
   "metadata": {
    "collapsed": true
   },
   "outputs": [],
   "source": []
  }
 ],
 "metadata": {
  "kernelspec": {
   "display_name": "Python 3",
   "language": "python",
   "name": "python3"
  },
  "language_info": {
   "codemirror_mode": {
    "name": "ipython",
    "version": 3
   },
   "file_extension": ".py",
   "mimetype": "text/x-python",
   "name": "python",
   "nbconvert_exporter": "python",
   "pygments_lexer": "ipython3",
   "version": "3.6.2"
  }
 },
 "nbformat": 4,
 "nbformat_minor": 2
}
